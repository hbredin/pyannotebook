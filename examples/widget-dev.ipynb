{
 "cells": [
  {
   "attachments": {},
   "cell_type": "markdown",
   "metadata": {},
   "source": [
    "*Ce notebook sert uniquement au dévelopement et au debug du widget pyannotebook.*"
   ]
  },
  {
   "attachments": {},
   "cell_type": "markdown",
   "metadata": {},
   "source": [
    "Commande pour le watch run :\n",
    "```bash\n",
    "watch-run -p 'src/**,css/**' yarn run\n",
    "```\n",
    "Commande compilation ts et css :\n",
    "```bash\n",
    "pip install -e \".[ examples]\"\n",
    "```\n",
    "pour le serveur jupyter :\n",
    "```bash\n",
    "jupyter lab\n",
    "```\n"
   ]
  },
  {
   "cell_type": "code",
   "execution_count": 1,
   "metadata": {},
   "outputs": [],
   "source": [
    "### PYANNOTEBOOK based on GROUND TRUTH ###\n",
    "\n",
    "# from pyannote.core import Annotation\n",
    "# assert isinstance(widget.annotation, Annotation)\n",
    "# from pyannotebook import load_rttm\n",
    "# annotation = load_rttm(\"sample.rttm\")[\"sample\"]\n",
    "\n",
    "# set annotation on widget\n",
    "# widget.annotation = annotation"
   ]
  },
  {
   "cell_type": "code",
   "execution_count": null,
   "metadata": {},
   "outputs": [],
   "source": [
    "### PYANNOTEBOOK based on PIPELINE ###\n",
    "\n",
    "# load pretrained speaker diarization pipeline\n",
    "from pyannote.audio import Pipeline\n",
    "pipeline = Pipeline.from_pretrained(\"pyannote/speaker-diarization\")"
   ]
  },
  {
   "cell_type": "code",
   "execution_count": null,
   "metadata": {},
   "outputs": [],
   "source": [
    "# instantiate annotation widget with support for pre-annotation\n",
    "from pyannotebook import Pyannotebook\n",
    "\n",
    "widget = Pyannotebook(pipeline=pipeline, minimap=False)\n",
    "widget\n"
   ]
  },
  {
   "cell_type": "code",
   "execution_count": null,
   "metadata": {
    "scrolled": true
   },
   "outputs": [],
   "source": [
    "# setting `audio` attribute will automatically run the pipeline for pre-annotation\n",
    "widget.audio = \"sample.wav\""
   ]
  }
 ],
 "metadata": {
  "kernelspec": {
   "display_name": "Python 3 (ipykernel)",
   "language": "python",
   "name": "python3"
  },
  "language_info": {
   "codemirror_mode": {
    "name": "ipython",
    "version": 3
   },
   "file_extension": ".py",
   "mimetype": "text/x-python",
   "name": "python",
   "nbconvert_exporter": "python",
   "pygments_lexer": "ipython3",
   "version": "3.11.3"
  }
 },
 "nbformat": 4,
 "nbformat_minor": 4
}
